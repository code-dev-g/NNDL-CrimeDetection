{
 "cells": [
  {
   "cell_type": "code",
   "execution_count": 23,
   "metadata": {},
   "outputs": [],
   "source": [
    "import numpy as np \n",
    "import pandas as pd\n",
    "from sklearn.model_selection import train_test_split\n",
    "from sklearn.feature_extraction.text import TfidfVectorizer\n",
    "from sklearn.naive_bayes import MultinomialNB\n",
    "from sklearn import metrics"
   ]
  },
  {
   "cell_type": "code",
   "execution_count": 24,
   "metadata": {},
   "outputs": [],
   "source": [
    "data = pd.read_csv('./data/crime_data_main.csv')"
   ]
  },
  {
   "cell_type": "code",
   "execution_count": 25,
   "metadata": {},
   "outputs": [],
   "source": [
    "\n",
    "X_train, X_test, y_train, y_test = train_test_split(data['Preprocessed'], data['class'], test_size=0.20, random_state=1, stratify=data['class'])"
   ]
  },
  {
   "cell_type": "code",
   "execution_count": 26,
   "metadata": {},
   "outputs": [],
   "source": [
    "#tf idf\n",
    "tf_idf = TfidfVectorizer()\n",
    "#applying tf idf to training data\n",
    "X_train_tf = tf_idf.fit_transform(X_train)\n",
    "#applying tf idf to training data\n",
    "X_train_tf = tf_idf.transform(X_train)"
   ]
  },
  {
   "cell_type": "code",
   "execution_count": 27,
   "metadata": {},
   "outputs": [
    {
     "name": "stdout",
     "output_type": "stream",
     "text": [
      "n_samples: 19826, n_features: 26231\n"
     ]
    }
   ],
   "source": [
    "print(\"n_samples: %d, n_features: %d\" % X_train_tf.shape)"
   ]
  },
  {
   "cell_type": "code",
   "execution_count": 28,
   "metadata": {},
   "outputs": [
    {
     "name": "stdout",
     "output_type": "stream",
     "text": [
      "n_samples: 4957, n_features: 26231\n"
     ]
    }
   ],
   "source": [
    "X_test_tf = tf_idf.transform(X_test)\n",
    "print(\"n_samples: %d, n_features: %d\" % X_test_tf.shape)"
   ]
  },
  {
   "cell_type": "code",
   "execution_count": 29,
   "metadata": {},
   "outputs": [],
   "source": [
    "#naive bayes classifier\n",
    "naive_bayes_classifier = MultinomialNB()\n",
    "naive_bayes_classifier.fit(X_train_tf, y_train)\n",
    "#predicted y\n",
    "y_pred = naive_bayes_classifier.predict(X_test_tf)"
   ]
  },
  {
   "cell_type": "code",
   "execution_count": 33,
   "metadata": {},
   "outputs": [
    {
     "name": "stdout",
     "output_type": "stream",
     "text": [
      "              precision    recall  f1-score   support\n",
      "\n",
      "        Hate       0.44      0.17      0.24       286\n",
      "     Offense       0.82      0.97      0.89      3838\n",
      "     Neutral       0.78      0.28      0.42       833\n",
      "\n",
      "    accuracy                           0.81      4957\n",
      "   macro avg       0.68      0.47      0.52      4957\n",
      "weighted avg       0.79      0.81      0.77      4957\n",
      "\n"
     ]
    }
   ],
   "source": [
    "print(metrics.classification_report(y_test, y_pred, target_names=['Hate', 'Offense', 'Neutral'], zero_division=0))"
   ]
  },
  {
   "cell_type": "code",
   "execution_count": 31,
   "metadata": {},
   "outputs": [
    {
     "name": "stdout",
     "output_type": "stream",
     "text": [
      "              precision    recall  f1-score   support\n",
      "\n",
      "        Hate       0.59      0.26      0.36       286\n",
      "     Offense       0.94      0.96      0.95      3838\n",
      "     Neutral       0.86      0.92      0.89       833\n",
      "\n",
      "    accuracy                           0.91      4957\n",
      "   macro avg       0.80      0.71      0.73      4957\n",
      "weighted avg       0.90      0.91      0.90      4957\n",
      "\n"
     ]
    }
   ],
   "source": [
    "from sklearn import svm\n",
    "svm_classifier = svm.SVC(kernel='linear')\n",
    "svm_classifier.fit(X_train_tf, y_train)\n",
    "y_pred = svm_classifier.predict(X_test_tf)\n",
    "print(metrics.classification_report(y_test, y_pred, target_names=['Hate', 'Offense', 'Neutral']))\n"
   ]
  },
  {
   "cell_type": "code",
   "execution_count": 32,
   "metadata": {},
   "outputs": [
    {
     "name": "stdout",
     "output_type": "stream",
     "text": [
      "              precision    recall  f1-score   support\n",
      "\n",
      "        Hate       0.44      0.17      0.24       286\n",
      "     Offense       0.82      0.97      0.89      3838\n",
      "     Neutral       0.78      0.28      0.42       833\n",
      "\n",
      "    accuracy                           0.81      4957\n",
      "   macro avg       0.68      0.47      0.52      4957\n",
      "weighted avg       0.79      0.81      0.77      4957\n",
      "\n"
     ]
    }
   ],
   "source": [
    "from sklearn.neighbors import KNeighborsClassifier\n",
    "knn_classifier = KNeighborsClassifier(n_neighbors=5)\n",
    "knn_classifier.fit(X_train_tf, y_train)\n",
    "y_pred = knn_classifier.predict(X_test_tf)\n",
    "print(metrics.classification_report(y_test, y_pred, target_names=['Hate', 'Offense', 'Neutral']))\n"
   ]
  },
  {
   "cell_type": "code",
   "execution_count": 34,
   "metadata": {},
   "outputs": [
    {
     "name": "stdout",
     "output_type": "stream",
     "text": [
      "              precision    recall  f1-score   support\n",
      "\n",
      "        Hate       0.62      0.12      0.20       286\n",
      "     Offense       0.90      0.97      0.94      3838\n",
      "     Neutral       0.87      0.79      0.83       833\n",
      "\n",
      "    accuracy                           0.89      4957\n",
      "   macro avg       0.80      0.63      0.65      4957\n",
      "weighted avg       0.88      0.89      0.88      4957\n",
      "\n"
     ]
    }
   ],
   "source": [
    "from sklearn.ensemble import RandomForestClassifier\n",
    "random_forest_classifier = RandomForestClassifier(n_estimators=100)\n",
    "random_forest_classifier.fit(X_train_tf, y_train)\n",
    "y_pred = random_forest_classifier.predict(X_test_tf)\n",
    "print(metrics.classification_report(y_test, y_pred, target_names=['Hate', 'Offense', 'Neutral']))\n"
   ]
  },
  {
   "cell_type": "code",
   "execution_count": 35,
   "metadata": {},
   "outputs": [
    {
     "name": "stdout",
     "output_type": "stream",
     "text": [
      "              precision    recall  f1-score   support\n",
      "\n",
      "        Hate       0.34      0.59      0.44       286\n",
      "     Offense       0.97      0.88      0.92      3838\n",
      "     Neutral       0.81      0.94      0.87       833\n",
      "\n",
      "    accuracy                           0.88      4957\n",
      "   macro avg       0.71      0.81      0.74      4957\n",
      "weighted avg       0.91      0.88      0.89      4957\n",
      "\n"
     ]
    }
   ],
   "source": [
    "from sklearn.svm import SVC\n",
    "cost_sensitive_svm_classifier = SVC(kernel='linear', class_weight='balanced')\n",
    "cost_sensitive_svm_classifier.fit(X_train_tf, y_train)\n",
    "y_pred = cost_sensitive_svm_classifier.predict(X_test_tf)\n",
    "print(metrics.classification_report(y_test, y_pred, target_names=['Hate', 'Offense', 'Neutral']))"
   ]
  },
  {
   "cell_type": "code",
   "execution_count": 36,
   "metadata": {},
   "outputs": [],
   "source": [
    "import re\n",
    "import nltk\n",
    "from nltk.corpus import stopwords\n",
    "from nltk.stem import PorterStemmer\n",
    "from nltk.stem import WordNetLemmatizer\n",
    "ps = PorterStemmer()\n",
    "lm = WordNetLemmatizer()\n",
    "\n",
    "def preprocess(text):\n",
    "\n",
    "    #remove non alphabetic characters\n",
    "    text = re.sub('[^A-Za-z]', ' ', text)\n",
    "\n",
    "    #lowercase\n",
    "    text = text.lower()\n",
    "\n",
    "    #tokenization\n",
    "    words = nltk.word_tokenize(text)\n",
    "\n",
    "    #punctuation mark removal\n",
    "    words = [word for word in words if word.isalnum()]\n",
    "\n",
    "    #stopwords removal\n",
    "    words_stop = []\n",
    "    for word in words:\n",
    "        if word not in stopwords.words('english'):\n",
    "            words_stop.append(word)\n",
    "\n",
    "    #stemming\n",
    "    words_stem = []\n",
    "    for word in words_stop:\n",
    "        words_stem.append(ps.stem(word))\n",
    "\n",
    "    #lemmatization\n",
    "    words_lemmatized = []\n",
    "    for word in words_stem:\n",
    "        words_lemmatized.append(lm.lemmatize(word))\n",
    "\n",
    "    #join words\n",
    "    text = ' '.join(words_lemmatized)\n",
    "\n",
    "    return text\n"
   ]
  },
  {
   "cell_type": "code",
   "execution_count": 45,
   "metadata": {},
   "outputs": [
    {
     "name": "stdout",
     "output_type": "stream",
     "text": [
      "[1]\n",
      "[2]\n"
     ]
    }
   ],
   "source": [
    "test_text = [\"I hate you\", \"Its a great day\"]\n",
    "for i in range(len(test_text)):\n",
    "    test_text[i] = preprocess(test_text[i])\n",
    "    test_text[i] = tf_idf.transform([test_text[i]])\n",
    "    print(svm_classifier.predict(test_text[i]))"
   ]
  },
  {
   "cell_type": "code",
   "execution_count": 47,
   "metadata": {},
   "outputs": [],
   "source": [
    "# save all models in pickle file\n",
    "import pickle\n",
    "pickle.dump(tf_idf, open('./models/tf_idf.pkl', 'wb'))\n",
    "pickle.dump(naive_bayes_classifier, open('./models/naive_bayes_classifier.pkl', 'wb'))\n",
    "pickle.dump(svm_classifier, open('./models/svm_classifier.pkl', 'wb'))\n",
    "pickle.dump(knn_classifier, open('./models/knn_classifier.pkl', 'wb'))\n",
    "pickle.dump(random_forest_classifier, open('./models/random_forest_classifier.pkl', 'wb'))\n",
    "pickle.dump(cost_sensitive_svm_classifier, open('./models/cost_sensitive_svm_classifier.pkl', 'wb'))"
   ]
  },
  {
   "cell_type": "code",
   "execution_count": null,
   "metadata": {},
   "outputs": [],
   "source": []
  }
 ],
 "metadata": {
  "kernelspec": {
   "display_name": "base",
   "language": "python",
   "name": "python3"
  },
  "language_info": {
   "codemirror_mode": {
    "name": "ipython",
    "version": 3
   },
   "file_extension": ".py",
   "mimetype": "text/x-python",
   "name": "python",
   "nbconvert_exporter": "python",
   "pygments_lexer": "ipython3",
   "version": "3.9.13"
  },
  "orig_nbformat": 4
 },
 "nbformat": 4,
 "nbformat_minor": 2
}
